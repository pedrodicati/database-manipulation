{
 "cells": [
  {
   "cell_type": "code",
   "execution_count": 1,
   "metadata": {},
   "outputs": [],
   "source": [
    "import psycopg2 as pg\n",
    "\n",
    "class Db_deputados():\n",
    "    def __init__(self, nome_db: str) -> None:\n",
    "        self.nome_db = nome_db\n",
    "        \n",
    "        conn = pg.connect(host='localhost',\n",
    "                            user='postgres',\n",
    "                            password='postgres',\n",
    "                            port=5432)\n",
    "        conn.autocommit = True\n",
    "\n",
    "        cursor = conn.cursor()\n",
    "\n",
    "        cursor.execute(\"DROP DATABASE \" + self.nome_db)\n",
    "\n",
    "        conn.close()\n",
    "\n",
    "    def connect(self) -> pg:\n",
    "        connection = pg.connect(host='localhost',\n",
    "                                database=self.nome_db,\n",
    "                                user='postgres',\n",
    "                                password='postgres')\n",
    "        \n",
    "        return connection\n",
    "    \n",
    "    def cria_db(self):\n",
    "        conn = pg.connect(host='localhost',\n",
    "                            user='postgres',\n",
    "                            password='postgres',\n",
    "                            port=5432)\n",
    "        conn.autocommit = True\n",
    "\n",
    "        cursor = conn.cursor()\n",
    "\n",
    "        cursor.execute(\"CREATE DATABASE \" + self.nome_db)\n",
    "\n",
    "        conn.close()\n",
    "\n",
    "    def run_sql(self, sql: str) -> None:        \n",
    "        connection = self.connect() # cria a conexao com o BD\n",
    "        cursor = connection.cursor() # permite que o python execute o o comando em SQL no BD\n",
    "\n",
    "        cursor.execute(sql) # executa o comando\n",
    "\n",
    "        connection.commit() # confirma todas as alteracoes feitas\n",
    "\n",
    "        connection.close()  # fecha a conexao\n",
    "    \n",
    "    def copy_csv(self, sql):\n",
    "        connection = self.connect()\n",
    "        cursor = connection.cursor()\n",
    "\n",
    "        cursor.execute(sql)\n",
    "\n",
    "        connection.commit() \n",
    "        connection.close()\n",
    "\n",
    "    def consultas(self, sql: str) -> list:\n",
    "        conn = self.connect()\n",
    "        conn.autocommit = True\n",
    "\n",
    "        cursor = conn.cursor()\n",
    "\n",
    "        cursor.execute(sql)\n",
    "\n",
    "        result = cursor.fetchall()\n",
    "        \n",
    "        return result"
   ]
  },
  {
   "cell_type": "code",
   "execution_count": 2,
   "metadata": {},
   "outputs": [],
   "source": [
    "db = Db_deputados(nome_db=\"deputados\")\n",
    "\n",
    "db.cria_db()\n",
    "\n",
    "# exclui todas as tabelas se elas existirem\n",
    "sql = '''DROP TABLE IF EXISTS Deputados;DROP TABLE IF EXISTS Partidos;'''\n",
    "db.run_sql(sql)"
   ]
  },
  {
   "cell_type": "code",
   "execution_count": 3,
   "metadata": {},
   "outputs": [],
   "source": [
    "# cria a tabela Partidos\n",
    "sql = '''CREATE TABLE IF NOT EXISTS Partidos (\n",
    "\t        id varchar(2) NOT NULL PRIMARY KEY,\n",
    "\t        nome varchar(14) NOT NULL\n",
    "        );'''\n",
    "db.run_sql(sql)"
   ]
  },
  {
   "cell_type": "code",
   "execution_count": 4,
   "metadata": {},
   "outputs": [],
   "source": [
    "# cria a tabela Deputados\n",
    "sql = '''CREATE TABLE IF NOT EXISTS Deputados (\n",
    "            id varchar(7) NOT NULL PRIMARY KEY,\n",
    "            nome varchar(150) NOT NULL,\n",
    "            partidoId varchar(2) NOT NULL\n",
    "                REFERENCES Partidos(id),\n",
    "            siglaUf char(2) NOT NULL,\n",
    "            idLegislatura varchar(3)\n",
    "        );'''\n",
    "db.run_sql(sql)"
   ]
  },
  {
   "cell_type": "code",
   "execution_count": 5,
   "metadata": {},
   "outputs": [],
   "source": [
    "# povoando as tabelas\n",
    "\n",
    "# file_partidos = open(\"partidos.csv\", \"r\")\n",
    "# file_deputados = open(\"deputados.csv\", \"r\")\n",
    "\n",
    "# # tabela partidos\n",
    "# db.copy_csv(file_partidos, \"Partidos\")\n",
    "\n",
    "sql = '''COPY Partidos(id, nome) FROM\n",
    "        '/home/dicati/Documentos/IFMS/2022.2/SECOMP/manipulacao/partidos.csv' csv \n",
    "        header delimiter ',';'''\n",
    "db.run_sql(sql)\n"
   ]
  },
  {
   "cell_type": "code",
   "execution_count": 6,
   "metadata": {},
   "outputs": [],
   "source": [
    "# db.copy_csv(file_deputados, \"Deputados\")\n",
    "\n",
    "sql = '''COPY Deputados(id, nome, partidoId, siglaUf, idLegislatura) FROM\n",
    "      '/home/dicati/Documentos/IFMS/2022.2/SECOMP/manipulacao/deputados.csv' csv \n",
    "      header delimiter ',';'''\n",
    "db.run_sql(sql)"
   ]
  },
  {
   "cell_type": "code",
   "execution_count": 7,
   "metadata": {},
   "outputs": [
    {
     "name": "stdout",
     "output_type": "stream",
     "text": [
      "[('0', 'AVANTE'), ('1', 'CIDADANIA'), ('2', 'MDB'), ('3', 'NOVO'), ('4', 'PATRIOTA')]\n",
      "[('204521', 'Abou Anni', '22', 'SP', '56'), ('204379', 'Acácio Favacho', '2', 'AP', '56'), ('204560', 'Adolfo Viana', '14', 'BA', '56'), ('204528', 'Adriana Ventura', '3', 'SP', '56'), ('121948', 'Adriano do Baldy', '9', 'GO', '56'), ('74646', 'Aécio Neves', '14', 'MG', '56'), ('141372', 'Aelton Freitas', '9', 'MG', '56'), ('160508', 'Afonso Florence', '16', 'BA', '56')]\n"
     ]
    }
   ],
   "source": [
    "import pandas as pd\n",
    "\n",
    "consulta_sql = '''SELECT * FROM Partidos LIMIT 5;'''\n",
    "\n",
    "resultado = db.consultas(consulta_sql)\n",
    "\n",
    "print(resultado)\n",
    "\n",
    "consulta_sql = '''SELECT * FROM deputados LIMIT 8;'''\n",
    "\n",
    "resultado = db.consultas(consulta_sql)\n",
    "\n",
    "print(resultado)\n",
    "\n",
    "# print(pd.DataFrame(resultado, columns=['id', 'nome', 'idPartido', 'estado', 'idLegislatura']))"
   ]
  },
  {
   "cell_type": "code",
   "execution_count": 8,
   "metadata": {},
   "outputs": [
    {
     "data": {
      "text/plain": [
       "[('Abou Anni', 'UNIÃO'),\n",
       " ('Acácio Favacho', 'MDB'),\n",
       " ('Adolfo Viana', 'PSDB'),\n",
       " ('Adriana Ventura', 'NOVO'),\n",
       " ('Adriano do Baldy', 'PP'),\n",
       " ('Aécio Neves', 'PSDB'),\n",
       " ('Aelton Freitas', 'PP'),\n",
       " ('Afonso Florence', 'PT')]"
      ]
     },
     "execution_count": 8,
     "metadata": {},
     "output_type": "execute_result"
    }
   ],
   "source": [
    "consulta_sql = '''SELECT deputados.nome, partidos.nome FROM Deputados\n",
    "                JOIN partidos ON partidos.id = deputados.partidoId\n",
    "                LIMIT 8; '''\n",
    "\n",
    "resultado = db.consultas(consulta_sql)\n",
    "\n",
    "resultado"
   ]
  },
  {
   "cell_type": "code",
   "execution_count": 9,
   "metadata": {},
   "outputs": [
    {
     "data": {
      "text/plain": [
       "[('PL', 76),\n",
       " ('PP', 58),\n",
       " ('PT', 56),\n",
       " ('UNIÃO', 51),\n",
       " ('PSD', 46),\n",
       " ('REPUBLICANOS', 44),\n",
       " ('MDB', 37),\n",
       " ('PSB', 24),\n",
       " ('PSDB', 22),\n",
       " ('PDT', 19),\n",
       " ('PODE', 9),\n",
       " ('PCdoB', 8),\n",
       " ('PSC', 8),\n",
       " ('NOVO', 8),\n",
       " ('PSOL', 8),\n",
       " ('SOLIDARIEDADE', 8),\n",
       " ('CIDADANIA', 7),\n",
       " ('AVANTE', 6),\n",
       " ('PATRIOTA', 5),\n",
       " ('PV', 4),\n",
       " ('PROS', 4),\n",
       " ('PTB', 3),\n",
       " ('REDE', 2)]"
      ]
     },
     "execution_count": 9,
     "metadata": {},
     "output_type": "execute_result"
    }
   ],
   "source": [
    "consulta_sql = '''SELECT partidos.nome, COUNT(*) FROM deputados\n",
    "                JOIN partidos on partidos.id = deputados.partidoid\n",
    "                GROUP BY partidos.id\n",
    "                ORDER BY COUNT(*) DESC;'''\n",
    "\n",
    "resultado = db.consultas(consulta_sql)\n",
    "\n",
    "resultado"
   ]
  },
  {
   "cell_type": "code",
   "execution_count": 10,
   "metadata": {},
   "outputs": [
    {
     "data": {
      "text/plain": [
       "[('SE', 8),\n",
       " ('DF', 8),\n",
       " ('RN', 8),\n",
       " ('AM', 8),\n",
       " ('AP', 8),\n",
       " ('TO', 8),\n",
       " ('MT', 8),\n",
       " ('RR', 8),\n",
       " ('AC', 8),\n",
       " ('RO', 8),\n",
       " ('MS', 8),\n",
       " ('AL', 9),\n",
       " ('PI', 10),\n",
       " ('ES', 10),\n",
       " ('PB', 12),\n",
       " ('SC', 16),\n",
       " ('GO', 17),\n",
       " ('PA', 17),\n",
       " ('MA', 18),\n",
       " ('CE', 22),\n",
       " ('PE', 25),\n",
       " ('PR', 30),\n",
       " ('RS', 31),\n",
       " ('BA', 39),\n",
       " ('RJ', 46),\n",
       " ('MG', 53),\n",
       " ('SP', 70)]"
      ]
     },
     "execution_count": 10,
     "metadata": {},
     "output_type": "execute_result"
    }
   ],
   "source": [
    "consulta_sql = '''SELECT deputados.siglauf, COUNT(*) FROM deputados\n",
    "                JOIN partidos on partidos.id = deputados.partidoid\n",
    "                GROUP BY deputados.siglauf\n",
    "                ORDER BY COUNT(*) ASC;'''\n",
    "\n",
    "resultado = db.consultas(consulta_sql)\n",
    "\n",
    "resultado"
   ]
  },
  {
   "cell_type": "code",
   "execution_count": 11,
   "metadata": {},
   "outputs": [],
   "source": [
    "novo_dado = '''INSERT INTO deputados(id, nome, partidoid, siglauf)\n",
    "                VALUES('208080','Vivian Silva', '20', 'MS');'''\n",
    "\n",
    "db.run_sql(novo_dado)"
   ]
  },
  {
   "cell_type": "code",
   "execution_count": 12,
   "metadata": {},
   "outputs": [
    {
     "data": {
      "text/plain": [
       "[('Vivian Silva', 'MS', 'REPUBLICANOS')]"
      ]
     },
     "execution_count": 12,
     "metadata": {},
     "output_type": "execute_result"
    }
   ],
   "source": [
    "consulta_sql = '''SELECT deputados.nome, deputados.siglauf, partidos.nome FROM deputados\n",
    "                join partidos on partidos.id = deputados.partidoid\n",
    "                WHERE deputados.nome = 'Vivian Silva' '''\n",
    "\n",
    "resultado = db.consultas(consulta_sql)\n",
    "\n",
    "resultado"
   ]
  },
  {
   "cell_type": "code",
   "execution_count": 13,
   "metadata": {},
   "outputs": [],
   "source": [
    "exclui_dado = '''DELETE FROM deputados\n",
    "                WHERE deputados.id = '74646'; '''\n",
    "\n",
    "db.run_sql(exclui_dado)"
   ]
  },
  {
   "cell_type": "code",
   "execution_count": 14,
   "metadata": {},
   "outputs": [
    {
     "data": {
      "text/plain": [
       "[]"
      ]
     },
     "execution_count": 14,
     "metadata": {},
     "output_type": "execute_result"
    }
   ],
   "source": [
    "consulta_excluido = '''SELECT nome, siglauf FROM deputados\n",
    "                where id = '74646' '''\n",
    "\n",
    "resultado = db.consultas(consulta_excluido)\n",
    "\n",
    "resultado"
   ]
  },
  {
   "cell_type": "code",
   "execution_count": 15,
   "metadata": {},
   "outputs": [],
   "source": [
    "import plotly as plt\n",
    "import plotly.express as px\n",
    "import json\n",
    "from urllib.request import urlopen\n",
    "import pandas as pd"
   ]
  },
  {
   "cell_type": "code",
   "execution_count": 18,
   "metadata": {},
   "outputs": [],
   "source": [
    "geojson = json.load(open(\"./minicurso/brasil_estados.json\"))"
   ]
  },
  {
   "cell_type": "code",
   "execution_count": 19,
   "metadata": {},
   "outputs": [
    {
     "data": {
      "text/html": [
       "<div>\n",
       "<style scoped>\n",
       "    .dataframe tbody tr th:only-of-type {\n",
       "        vertical-align: middle;\n",
       "    }\n",
       "\n",
       "    .dataframe tbody tr th {\n",
       "        vertical-align: top;\n",
       "    }\n",
       "\n",
       "    .dataframe thead th {\n",
       "        text-align: right;\n",
       "    }\n",
       "</style>\n",
       "<table border=\"1\" class=\"dataframe\">\n",
       "  <thead>\n",
       "    <tr style=\"text-align: right;\">\n",
       "      <th></th>\n",
       "      <th>sigla</th>\n",
       "      <th>quantidade</th>\n",
       "    </tr>\n",
       "  </thead>\n",
       "  <tbody>\n",
       "    <tr>\n",
       "      <th>0</th>\n",
       "      <td>SE</td>\n",
       "      <td>8</td>\n",
       "    </tr>\n",
       "    <tr>\n",
       "      <th>1</th>\n",
       "      <td>DF</td>\n",
       "      <td>8</td>\n",
       "    </tr>\n",
       "    <tr>\n",
       "      <th>2</th>\n",
       "      <td>RN</td>\n",
       "      <td>8</td>\n",
       "    </tr>\n",
       "    <tr>\n",
       "      <th>3</th>\n",
       "      <td>AM</td>\n",
       "      <td>8</td>\n",
       "    </tr>\n",
       "    <tr>\n",
       "      <th>4</th>\n",
       "      <td>AP</td>\n",
       "      <td>8</td>\n",
       "    </tr>\n",
       "    <tr>\n",
       "      <th>5</th>\n",
       "      <td>TO</td>\n",
       "      <td>8</td>\n",
       "    </tr>\n",
       "    <tr>\n",
       "      <th>6</th>\n",
       "      <td>MT</td>\n",
       "      <td>8</td>\n",
       "    </tr>\n",
       "    <tr>\n",
       "      <th>7</th>\n",
       "      <td>RR</td>\n",
       "      <td>8</td>\n",
       "    </tr>\n",
       "    <tr>\n",
       "      <th>8</th>\n",
       "      <td>AC</td>\n",
       "      <td>8</td>\n",
       "    </tr>\n",
       "    <tr>\n",
       "      <th>9</th>\n",
       "      <td>RO</td>\n",
       "      <td>8</td>\n",
       "    </tr>\n",
       "    <tr>\n",
       "      <th>10</th>\n",
       "      <td>MS</td>\n",
       "      <td>9</td>\n",
       "    </tr>\n",
       "    <tr>\n",
       "      <th>11</th>\n",
       "      <td>AL</td>\n",
       "      <td>9</td>\n",
       "    </tr>\n",
       "    <tr>\n",
       "      <th>12</th>\n",
       "      <td>PI</td>\n",
       "      <td>10</td>\n",
       "    </tr>\n",
       "    <tr>\n",
       "      <th>13</th>\n",
       "      <td>ES</td>\n",
       "      <td>10</td>\n",
       "    </tr>\n",
       "    <tr>\n",
       "      <th>14</th>\n",
       "      <td>PB</td>\n",
       "      <td>12</td>\n",
       "    </tr>\n",
       "    <tr>\n",
       "      <th>15</th>\n",
       "      <td>SC</td>\n",
       "      <td>16</td>\n",
       "    </tr>\n",
       "    <tr>\n",
       "      <th>16</th>\n",
       "      <td>GO</td>\n",
       "      <td>17</td>\n",
       "    </tr>\n",
       "    <tr>\n",
       "      <th>17</th>\n",
       "      <td>PA</td>\n",
       "      <td>17</td>\n",
       "    </tr>\n",
       "    <tr>\n",
       "      <th>18</th>\n",
       "      <td>MA</td>\n",
       "      <td>18</td>\n",
       "    </tr>\n",
       "    <tr>\n",
       "      <th>19</th>\n",
       "      <td>CE</td>\n",
       "      <td>22</td>\n",
       "    </tr>\n",
       "    <tr>\n",
       "      <th>20</th>\n",
       "      <td>PE</td>\n",
       "      <td>25</td>\n",
       "    </tr>\n",
       "    <tr>\n",
       "      <th>21</th>\n",
       "      <td>PR</td>\n",
       "      <td>30</td>\n",
       "    </tr>\n",
       "    <tr>\n",
       "      <th>22</th>\n",
       "      <td>RS</td>\n",
       "      <td>31</td>\n",
       "    </tr>\n",
       "    <tr>\n",
       "      <th>23</th>\n",
       "      <td>BA</td>\n",
       "      <td>39</td>\n",
       "    </tr>\n",
       "    <tr>\n",
       "      <th>24</th>\n",
       "      <td>RJ</td>\n",
       "      <td>46</td>\n",
       "    </tr>\n",
       "    <tr>\n",
       "      <th>25</th>\n",
       "      <td>MG</td>\n",
       "      <td>52</td>\n",
       "    </tr>\n",
       "    <tr>\n",
       "      <th>26</th>\n",
       "      <td>SP</td>\n",
       "      <td>70</td>\n",
       "    </tr>\n",
       "  </tbody>\n",
       "</table>\n",
       "</div>"
      ],
      "text/plain": [
       "   sigla  quantidade\n",
       "0     SE           8\n",
       "1     DF           8\n",
       "2     RN           8\n",
       "3     AM           8\n",
       "4     AP           8\n",
       "5     TO           8\n",
       "6     MT           8\n",
       "7     RR           8\n",
       "8     AC           8\n",
       "9     RO           8\n",
       "10    MS           9\n",
       "11    AL           9\n",
       "12    PI          10\n",
       "13    ES          10\n",
       "14    PB          12\n",
       "15    SC          16\n",
       "16    GO          17\n",
       "17    PA          17\n",
       "18    MA          18\n",
       "19    CE          22\n",
       "20    PE          25\n",
       "21    PR          30\n",
       "22    RS          31\n",
       "23    BA          39\n",
       "24    RJ          46\n",
       "25    MG          52\n",
       "26    SP          70"
      ]
     },
     "execution_count": 19,
     "metadata": {},
     "output_type": "execute_result"
    }
   ],
   "source": [
    "consulta_mapa = '''SELECT deputados.siglauf, COUNT(*) FROM deputados\n",
    "                JOIN partidos on partidos.id = deputados.partidoid\n",
    "                GROUP BY deputados.siglauf\n",
    "                ORDER BY COUNT(*) ASC;'''\n",
    "\n",
    "df_estados = pd.DataFrame(db.consultas(consulta_mapa), columns=['sigla', 'quantidade'])\n",
    "\n",
    "df_estados"
   ]
  },
  {
   "cell_type": "code",
   "execution_count": null,
   "metadata": {},
   "outputs": [],
   "source": [
    "fig = px.choropleth(\n",
    "    df_estados,\n",
    "    geojson=geojson,\n",
    "    locations='sigla',\n",
    "    color='quantidade',\n",
    "    color_continuous_scale=\"blues\",\n",
    "    range_color=(8, 70),\n",
    "    scope='south america'\n",
    ")\n",
    "\n",
    "# fig.update_geos(fitbounds = \"locations\", visible = False)\n",
    "fig.show()"
   ]
  }
 ],
 "metadata": {
  "kernelspec": {
   "display_name": "Python 3.10.6 64-bit",
   "language": "python",
   "name": "python3"
  },
  "language_info": {
   "codemirror_mode": {
    "name": "ipython",
    "version": 3
   },
   "file_extension": ".py",
   "mimetype": "text/x-python",
   "name": "python",
   "nbconvert_exporter": "python",
   "pygments_lexer": "ipython3",
   "version": "3.10.6"
  },
  "orig_nbformat": 4,
  "vscode": {
   "interpreter": {
    "hash": "916dbcbb3f70747c44a77c7bcd40155683ae19c65e1c03b4aa3499c5328201f1"
   }
  }
 },
 "nbformat": 4,
 "nbformat_minor": 2
}
