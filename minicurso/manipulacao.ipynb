{
 "cells": [
  {
   "cell_type": "code",
   "execution_count": 28,
   "metadata": {},
   "outputs": [],
   "source": [
    "import psycopg2\n",
    "\n",
    "# estabelece a conexao com o postgres\n",
    "conn = psycopg2.connect(host='localhost', user=\"postgres\", password=\"postgres\", port=5432)\n",
    "\n",
    "# faz a confirmacao de cada execucao automaticamente\n",
    "conn.autocommit = True\n",
    "\n",
    "# permite que o python execute o comando em SQL no BD\n",
    "cursor = conn.cursor()\n",
    "\n",
    "nome_db = 'camera'\n",
    "\n",
    "cursor.execute('CREATE DATABASE ' + nome_db)\n",
    "\n",
    "conn.close()"
   ]
  },
  {
   "cell_type": "code",
   "execution_count": 32,
   "metadata": {},
   "outputs": [],
   "source": [
    "conn = psycopg2.connect(host='localhost', dbname=nome_db, user=\"postgres\", password=\"postgres\", port=5432)\n",
    "\n",
    "conn.autocommit == True\n",
    "\n",
    "cursor = conn.cursor()\n",
    "\n",
    "drop_if_exists = '''DROP TABLE IF EXISTS Deputados;\n",
    "                    DROP TABLE IF EXISTS Partidos;'''\n",
    "\n",
    "cursor.execute(drop_if_exists)\n",
    "\n",
    "conn.close()"
   ]
  },
  {
   "cell_type": "code",
   "execution_count": 33,
   "metadata": {},
   "outputs": [],
   "source": [
    "conn = psycopg2.connect(host='localhost', dbname=nome_db, user=\"postgres\", password=\"postgres\", port=5432)\n",
    "\n",
    "conn.autocommit == True\n",
    "\n",
    "cursor = conn.cursor()\n",
    "\n",
    "tabela_partidos = '''CREATE TABLE IF NOT EXISTS partidos (\n",
    "\t        id varchar(10) NOT NULL PRIMARY KEY,\n",
    "\t        nome varchar(20) NOT NULL\n",
    "        );'''\n",
    "\n",
    "cursor.execute(tabela_partidos)\n",
    "\n",
    "conn.close()"
   ]
  },
  {
   "cell_type": "code",
   "execution_count": 34,
   "metadata": {},
   "outputs": [
    {
     "ename": "UndefinedTable",
     "evalue": "relation \"partidos\" does not exist\n",
     "output_type": "error",
     "traceback": [
      "\u001b[0;31m---------------------------------------------------------------------------\u001b[0m",
      "\u001b[0;31mUndefinedTable\u001b[0m                            Traceback (most recent call last)",
      "\u001b[1;32m/home/dicati/Documentos/IFMS/2022.2/SECOMP/manipulacao/minicurso/manipulacao.ipynb Cell 4\u001b[0m in \u001b[0;36m<cell line: 16>\u001b[0;34m()\u001b[0m\n\u001b[1;32m      <a href='vscode-notebook-cell:/home/dicati/Documentos/IFMS/2022.2/SECOMP/manipulacao/minicurso/manipulacao.ipynb#W3sZmlsZQ%3D%3D?line=4'>5</a>\u001b[0m cursor \u001b[39m=\u001b[39m conn\u001b[39m.\u001b[39mcursor()\n\u001b[1;32m      <a href='vscode-notebook-cell:/home/dicati/Documentos/IFMS/2022.2/SECOMP/manipulacao/minicurso/manipulacao.ipynb#W3sZmlsZQ%3D%3D?line=6'>7</a>\u001b[0m tabela_deputados \u001b[39m=\u001b[39m sql \u001b[39m=\u001b[39m \u001b[39m'''\u001b[39m\u001b[39mCREATE TABLE IF NOT EXISTS deputados (\u001b[39m\n\u001b[1;32m      <a href='vscode-notebook-cell:/home/dicati/Documentos/IFMS/2022.2/SECOMP/manipulacao/minicurso/manipulacao.ipynb#W3sZmlsZQ%3D%3D?line=7'>8</a>\u001b[0m \u001b[39m                            id varchar(7) NOT NULL PRIMARY KEY,\u001b[39m\n\u001b[1;32m      <a href='vscode-notebook-cell:/home/dicati/Documentos/IFMS/2022.2/SECOMP/manipulacao/minicurso/manipulacao.ipynb#W3sZmlsZQ%3D%3D?line=8'>9</a>\u001b[0m \u001b[39m                            nome varchar(150) NOT NULL,\u001b[39m\n\u001b[0;32m   (...)\u001b[0m\n\u001b[1;32m     <a href='vscode-notebook-cell:/home/dicati/Documentos/IFMS/2022.2/SECOMP/manipulacao/minicurso/manipulacao.ipynb#W3sZmlsZQ%3D%3D?line=12'>13</a>\u001b[0m \u001b[39m                            idLegislatura varchar(3)\u001b[39m\n\u001b[1;32m     <a href='vscode-notebook-cell:/home/dicati/Documentos/IFMS/2022.2/SECOMP/manipulacao/minicurso/manipulacao.ipynb#W3sZmlsZQ%3D%3D?line=13'>14</a>\u001b[0m \u001b[39m                        );\u001b[39m\u001b[39m'''\u001b[39m   \n\u001b[0;32m---> <a href='vscode-notebook-cell:/home/dicati/Documentos/IFMS/2022.2/SECOMP/manipulacao/minicurso/manipulacao.ipynb#W3sZmlsZQ%3D%3D?line=15'>16</a>\u001b[0m cursor\u001b[39m.\u001b[39;49mexecute(tabela_deputados)\n\u001b[1;32m     <a href='vscode-notebook-cell:/home/dicati/Documentos/IFMS/2022.2/SECOMP/manipulacao/minicurso/manipulacao.ipynb#W3sZmlsZQ%3D%3D?line=17'>18</a>\u001b[0m conn\u001b[39m.\u001b[39mclose()\n",
      "\u001b[0;31mUndefinedTable\u001b[0m: relation \"partidos\" does not exist\n"
     ]
    }
   ],
   "source": [
    "conn = psycopg2.connect(host='localhost', dbname=nome_db, user=\"postgres\", password=\"postgres\", port=5432)\n",
    "\n",
    "conn.autocommit == True\n",
    "\n",
    "cursor = conn.cursor()\n",
    "\n",
    "tabela_deputados = sql = '''CREATE TABLE IF NOT EXISTS deputados (\n",
    "                            id varchar(7) NOT NULL PRIMARY KEY,\n",
    "                            nome varchar(150) NOT NULL,\n",
    "                            partidoId varchar(2) NOT NULL\n",
    "                                REFERENCES partidos(id),\n",
    "                            siglaUf char(2) NOT NULL,\n",
    "                            idLegislatura varchar(3)\n",
    "                        );'''   \n",
    "\n",
    "cursor.execute(tabela_deputados)\n",
    "\n",
    "conn.close()"
   ]
  }
 ],
 "metadata": {
  "kernelspec": {
   "display_name": "Python 3.10.6 64-bit",
   "language": "python",
   "name": "python3"
  },
  "language_info": {
   "codemirror_mode": {
    "name": "ipython",
    "version": 3
   },
   "file_extension": ".py",
   "mimetype": "text/x-python",
   "name": "python",
   "nbconvert_exporter": "python",
   "pygments_lexer": "ipython3",
   "version": "3.10.6"
  },
  "orig_nbformat": 4,
  "vscode": {
   "interpreter": {
    "hash": "916dbcbb3f70747c44a77c7bcd40155683ae19c65e1c03b4aa3499c5328201f1"
   }
  }
 },
 "nbformat": 4,
 "nbformat_minor": 2
}
