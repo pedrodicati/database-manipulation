{
 "cells": [
  {
   "cell_type": "code",
   "execution_count": 22,
   "metadata": {},
   "outputs": [],
   "source": [
    "import psycopg2 as pg\n",
    "\n",
    "class Db_deputados():\n",
    "    def __init__(self) -> None:\n",
    "        pass\n",
    "\n",
    "    def connect(self) -> pg:\n",
    "        connection = pg.connect(host='localhost',\n",
    "                                database='Deputados',\n",
    "                                user='postgres',\n",
    "                                password='postgres')\n",
    "        \n",
    "        return connection\n",
    "    \n",
    "    def cria_tables(self, sql: str) -> None:        \n",
    "        connection = self.connect()\n",
    "        cursor = connection.cursor()\n",
    "\n",
    "        cursor.execute(sql)\n",
    "\n",
    "        connection.commit()\n",
    "\n",
    "        connection.close()"
   ]
  },
  {
   "cell_type": "code",
   "execution_count": 23,
   "metadata": {},
   "outputs": [],
   "source": [
    "db = Db_deputados()\n",
    "\n",
    "# criar a tabela Deputados\n",
    "sql = '''DROP TABLE IF EXISTS Deputados;'''\n",
    "db.cria_tables()\n",
    "\n",
    "sql = '''CREATE TABLE IF NOT EXISTS Deputados \n",
    "        (\n",
    "           id int NOT NULL PRIMARY KEY,\n",
    "           uri varchar(200),\n",
    "           nome varchar(100),\n",
    "           partido_id int NOT NULL\n",
    "            REFERENCES Partidos(id), \n",
    "        )\n",
    "        '''"
   ]
  }
 ],
 "metadata": {
  "kernelspec": {
   "display_name": "Python 3.10.6 64-bit",
   "language": "python",
   "name": "python3"
  },
  "language_info": {
   "codemirror_mode": {
    "name": "ipython",
    "version": 3
   },
   "file_extension": ".py",
   "mimetype": "text/x-python",
   "name": "python",
   "nbconvert_exporter": "python",
   "pygments_lexer": "ipython3",
   "version": "3.10.6"
  },
  "orig_nbformat": 4,
  "vscode": {
   "interpreter": {
    "hash": "916dbcbb3f70747c44a77c7bcd40155683ae19c65e1c03b4aa3499c5328201f1"
   }
  }
 },
 "nbformat": 4,
 "nbformat_minor": 2
}
