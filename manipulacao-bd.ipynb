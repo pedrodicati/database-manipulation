{
 "cells": [
  {
   "cell_type": "code",
   "execution_count": 12,
   "metadata": {},
   "outputs": [],
   "source": [
    "import psycopg2 as pg\n",
    "\n",
    "class Db_deputados():\n",
    "    def __init__(self) -> None:\n",
    "        pass\n",
    "\n",
    "    def connect(self) -> pg:\n",
    "        connection = pg.connect(host='localhost',\n",
    "                                database='Deputados',\n",
    "                                user='postgres',\n",
    "                                password='postgres')\n",
    "        \n",
    "        return connection\n",
    "    \n",
    "    def run_sql(self, sql: str) -> None:        \n",
    "        connection = self.connect() # cria a conexao com o BD\n",
    "        cursor = connection.cursor() # permite que o python execute o o comando em SQL no BD\n",
    "\n",
    "        cursor.execute(sql) # executa o comando\n",
    "\n",
    "        connection.commit() # confirma todas as alteracoes feitas\n",
    "\n",
    "        connection.close()  # fecha a conexao\n",
    "    \n",
    "    def copy_csv(self, sql):\n",
    "        connection = self.connect()\n",
    "        cursor = connection.cursor()\n",
    "\n",
    "        cursor.execute(sql)\n",
    "\n",
    "        connection.commit() \n",
    "        connection.close()\n",
    "\n",
    "        "
   ]
  },
  {
   "cell_type": "code",
   "execution_count": 13,
   "metadata": {},
   "outputs": [],
   "source": [
    "db = Db_deputados()\n",
    "\n",
    "# exclui todas as tabelas se elas existirem\n",
    "sql = '''DROP TABLE IF EXISTS Deputados;DROP TABLE IF EXISTS Partidos;'''\n",
    "db.run_sql(sql)"
   ]
  },
  {
   "cell_type": "code",
   "execution_count": 14,
   "metadata": {},
   "outputs": [],
   "source": [
    "# cria a tabela Partidos\n",
    "sql = '''CREATE TABLE IF NOT EXISTS Partidos (\n",
    "\t        id varchar(2) NOT NULL PRIMARY KEY,\n",
    "\t        nome varchar(14) NOT NULL\n",
    "        );'''\n",
    "db.run_sql(sql)"
   ]
  },
  {
   "cell_type": "code",
   "execution_count": 15,
   "metadata": {},
   "outputs": [],
   "source": [
    "# cria a tabela Deputados\n",
    "sql = '''CREATE TABLE IF NOT EXISTS Deputados (\n",
    "            id varchar(7) NOT NULL PRIMARY KEY,\n",
    "            nome varchar(150) NOT NULL,\n",
    "            partidoId varchar(2) NOT NULL\n",
    "                REFERENCES Partidos(id),\n",
    "            siglaUf char(2) NOT NULL,\n",
    "            idLegislatura varchar(3)\n",
    "        );'''\n",
    "db.run_sql(sql)"
   ]
  },
  {
   "cell_type": "code",
   "execution_count": 17,
   "metadata": {},
   "outputs": [],
   "source": [
    "# povoando as tabelas\n",
    "\n",
    "# file_partidos = open(\"partidos.csv\", \"r\")\n",
    "# file_deputados = open(\"deputados.csv\", \"r\")\n",
    "\n",
    "# # tabela partidos\n",
    "# db.copy_csv(file_partidos, \"Partidos\")\n",
    "\n",
    "sql = '''COPY Partidos(id, nome) FROM\n",
    "        '/home/dicati/Documentos/IFMS/2022.2/SECOMP/manipulacao/partidos.csv' csv \n",
    "        header delimiter ',';'''\n",
    "db.run_sql(sql)\n"
   ]
  },
  {
   "cell_type": "code",
   "execution_count": 11,
   "metadata": {},
   "outputs": [],
   "source": [
    "# db.copy_csv(file_deputados, \"Deputados\")\n",
    "\n",
    "sql = '''COPY Deputados(id, nome, partidoId, siglaUf, idLegislatura) FROM\n",
    "      '/home/dicati/Documentos/IFMS/2022.2/SECOMP/manipulacao/deputados.csv' csv \n",
    "      header delimiter ',';'''\n",
    "db.run_sql(sql)"
   ]
  }
 ],
 "metadata": {
  "kernelspec": {
   "display_name": "Python 3.10.6 64-bit",
   "language": "python",
   "name": "python3"
  },
  "language_info": {
   "codemirror_mode": {
    "name": "ipython",
    "version": 3
   },
   "file_extension": ".py",
   "mimetype": "text/x-python",
   "name": "python",
   "nbconvert_exporter": "python",
   "pygments_lexer": "ipython3",
   "version": "3.10.6"
  },
  "orig_nbformat": 4,
  "vscode": {
   "interpreter": {
    "hash": "916dbcbb3f70747c44a77c7bcd40155683ae19c65e1c03b4aa3499c5328201f1"
   }
  }
 },
 "nbformat": 4,
 "nbformat_minor": 2
}
