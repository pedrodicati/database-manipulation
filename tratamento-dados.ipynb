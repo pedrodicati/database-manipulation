{
 "cells": [
  {
   "cell_type": "code",
   "execution_count": 2,
   "metadata": {},
   "outputs": [],
   "source": [
    "import requests\n",
    "import json\n",
    "import pandas as pd\n",
    "\n",
    "from sklearn.preprocessing import LabelEncoder\n",
    "from pathlib import Path"
   ]
  },
  {
   "cell_type": "code",
   "execution_count": 3,
   "metadata": {},
   "outputs": [],
   "source": [
    "# requisicao dos dados\n",
    "URL = 'https://dadosabertos.camara.leg.br/api/v2/deputados'\n",
    "resposta = requests.request(\"GET\", URL)\n",
    "\n",
    "objetos = json.loads(resposta.text) # pega somente os dados dos deputados e descarta o resto"
   ]
  },
  {
   "cell_type": "code",
   "execution_count": 4,
   "metadata": {},
   "outputs": [
    {
     "name": "stdout",
     "output_type": "stream",
     "text": [
      "<class 'pandas.core.frame.DataFrame'>\n",
      "RangeIndex: 513 entries, 0 to 512\n",
      "Data columns (total 8 columns):\n",
      " #   Column         Non-Null Count  Dtype \n",
      "---  ------         --------------  ----- \n",
      " 0   uri            513 non-null    object\n",
      " 1   nome           513 non-null    object\n",
      " 2   siglaPartido   513 non-null    object\n",
      " 3   uriPartido     513 non-null    object\n",
      " 4   siglaUf        513 non-null    object\n",
      " 5   idLegislatura  513 non-null    int64 \n",
      " 6   urlFoto        513 non-null    object\n",
      " 7   email          0 non-null      object\n",
      "dtypes: int64(1), object(7)\n",
      "memory usage: 32.2+ KB\n"
     ]
    }
   ],
   "source": [
    "deputados = objetos['dados']    # pega os dados do deputado (lista de dicionarios)\n",
    "\n",
    "df = pd.DataFrame(deputados)    # transforma cada dicionario em um dataFrame\n",
    "\n",
    "df = df.drop(['id'], axis=1)    # exclui o id do deputado, pois iremos adicionar um id do banco\n",
    "\n",
    "coluna_partido = df['siglaPartido'] # dividir em duas tabelas\n"
   ]
  },
  {
   "cell_type": "code",
   "execution_count": 77,
   "metadata": {},
   "outputs": [],
   "source": [
    "# transformar todas as strings da siglaPartido em um id para referenciar em uma foreing key\n",
    "le = LabelEncoder()\n",
    "coluna_id_partido = le.fit_transform(coluna_partido)\n",
    "\n",
    "# transforma em listas do python para poder \n",
    "coluna_id_partido_list = coluna_id_partido.tolist() # from nparray to list\n",
    "coluna_partido_list = coluna_partido.values.tolist() # from pandas.series to list"
   ]
  },
  {
   "cell_type": "code",
   "execution_count": 78,
   "metadata": {},
   "outputs": [],
   "source": [
    "# troca os dados do dataFrame original pelos ids das siglaPartido\n",
    "df = df.replace(coluna_partido_list, coluna_id_partido_list)\n",
    "\n",
    "# salva em um arquivo csv para exportar para o banco\n",
    "filepath = Path('deputados.csv')\n",
    "filepath.parent.mkdir(parents=True, exist_ok=True)\n",
    "df.to_csv(filepath)"
   ]
  },
  {
   "cell_type": "code",
   "execution_count": 79,
   "metadata": {},
   "outputs": [],
   "source": [
    "# para criar outro csv com a tabela partidos\n",
    "d = dict()  # dicionario necessario para salvar sem duplicar os id e nome do partido para o csv\n",
    "\n",
    "# cria o dicionario\n",
    "for i in range(len(coluna_id_partido_list)):\n",
    "    d[coluna_id_partido_list[i]] = coluna_partido[i]\n",
    "\n",
    "# cria um dataFrame de acordo com o dicionario e organiza ele em ordem crescente pelo id\n",
    "df_partido = pd.DataFrame(list(d.items()), columns=['id', 'siglaPartido']).sort_values(['id'])\n",
    "\n",
    "# salva em um arquivo csv para exportar para o banco\n",
    "filepath = Path('partidos.csv')\n",
    "filepath.parent.mkdir(parents=True, exist_ok=True)\n",
    "df_partido.to_csv(filepath, index=False)"
   ]
  }
 ],
 "metadata": {
  "kernelspec": {
   "display_name": "Python 3.10.4 64-bit",
   "language": "python",
   "name": "python3"
  },
  "language_info": {
   "codemirror_mode": {
    "name": "ipython",
    "version": 3
   },
   "file_extension": ".py",
   "mimetype": "text/x-python",
   "name": "python",
   "nbconvert_exporter": "python",
   "pygments_lexer": "ipython3",
   "version": "3.10.6"
  },
  "orig_nbformat": 4,
  "vscode": {
   "interpreter": {
    "hash": "916dbcbb3f70747c44a77c7bcd40155683ae19c65e1c03b4aa3499c5328201f1"
   }
  }
 },
 "nbformat": 4,
 "nbformat_minor": 2
}
